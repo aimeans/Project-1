{
 "cells": [
  {
   "cell_type": "markdown",
   "id": "9181edf7-273f-4605-98d1-c9170eea9d68",
   "metadata": {},
   "source": [
    "### Analyze the Risk-Return Profile\n",
    "\n",
    "To determine the overall risk of an asset or portfolio, quantitative analysts and investment managers consider not only its risk metrics but also its risk-return profile. After all, if you have two portfolios that each offer a 10% return but one has less risk, you’d probably invest in the smaller-risk portfolio. For this reason, you need to consider the Sharpe ratios for each portfolio."
   ]
  },
  {
   "cell_type": "code",
   "execution_count": 11,
   "id": "837dc12e-fdf6-4d4b-a4bd-7ce8d9c7a1bb",
   "metadata": {},
   "outputs": [
    {
     "name": "stdout",
     "output_type": "stream",
     "text": [
      "[*********************100%***********************]  5 of 5 completed\n"
     ]
    },
    {
     "data": {
      "text/html": [
       "<div>\n",
       "<style scoped>\n",
       "    .dataframe tbody tr th:only-of-type {\n",
       "        vertical-align: middle;\n",
       "    }\n",
       "\n",
       "    .dataframe tbody tr th {\n",
       "        vertical-align: top;\n",
       "    }\n",
       "\n",
       "    .dataframe thead th {\n",
       "        text-align: right;\n",
       "    }\n",
       "</style>\n",
       "<table border=\"1\" class=\"dataframe\">\n",
       "  <thead>\n",
       "    <tr style=\"text-align: right;\">\n",
       "      <th></th>\n",
       "      <th>ALK</th>\n",
       "      <th>F</th>\n",
       "      <th>NVDA</th>\n",
       "      <th>SPY</th>\n",
       "      <th>U</th>\n",
       "    </tr>\n",
       "    <tr>\n",
       "      <th>Date</th>\n",
       "      <th></th>\n",
       "      <th></th>\n",
       "      <th></th>\n",
       "      <th></th>\n",
       "      <th></th>\n",
       "    </tr>\n",
       "  </thead>\n",
       "  <tbody>\n",
       "    <tr>\n",
       "      <th>2019-09-26</th>\n",
       "      <td>63.886593</td>\n",
       "      <td>8.609035</td>\n",
       "      <td>44.160744</td>\n",
       "      <td>283.035339</td>\n",
       "      <td>NaN</td>\n",
       "    </tr>\n",
       "    <tr>\n",
       "      <th>2019-09-27</th>\n",
       "      <td>63.500717</td>\n",
       "      <td>8.552521</td>\n",
       "      <td>42.771225</td>\n",
       "      <td>281.510498</td>\n",
       "      <td>NaN</td>\n",
       "    </tr>\n",
       "    <tr>\n",
       "      <th>2019-09-30</th>\n",
       "      <td>64.222992</td>\n",
       "      <td>8.627874</td>\n",
       "      <td>43.346455</td>\n",
       "      <td>282.816101</td>\n",
       "      <td>NaN</td>\n",
       "    </tr>\n",
       "    <tr>\n",
       "      <th>2019-10-01</th>\n",
       "      <td>64.262566</td>\n",
       "      <td>8.382977</td>\n",
       "      <td>43.329025</td>\n",
       "      <td>279.452118</td>\n",
       "      <td>NaN</td>\n",
       "    </tr>\n",
       "    <tr>\n",
       "      <th>2019-10-02</th>\n",
       "      <td>62.056171</td>\n",
       "      <td>8.109823</td>\n",
       "      <td>43.089966</td>\n",
       "      <td>274.515717</td>\n",
       "      <td>NaN</td>\n",
       "    </tr>\n",
       "    <tr>\n",
       "      <th>...</th>\n",
       "      <td>...</td>\n",
       "      <td>...</td>\n",
       "      <td>...</td>\n",
       "      <td>...</td>\n",
       "      <td>...</td>\n",
       "    </tr>\n",
       "    <tr>\n",
       "      <th>2022-09-20</th>\n",
       "      <td>45.330002</td>\n",
       "      <td>13.090000</td>\n",
       "      <td>131.759995</td>\n",
       "      <td>384.089996</td>\n",
       "      <td>35.200001</td>\n",
       "    </tr>\n",
       "    <tr>\n",
       "      <th>2022-09-21</th>\n",
       "      <td>43.490002</td>\n",
       "      <td>13.050000</td>\n",
       "      <td>132.610001</td>\n",
       "      <td>377.390015</td>\n",
       "      <td>34.900002</td>\n",
       "    </tr>\n",
       "    <tr>\n",
       "      <th>2022-09-22</th>\n",
       "      <td>41.880001</td>\n",
       "      <td>12.770000</td>\n",
       "      <td>125.610001</td>\n",
       "      <td>374.220001</td>\n",
       "      <td>33.320000</td>\n",
       "    </tr>\n",
       "    <tr>\n",
       "      <th>2022-09-23</th>\n",
       "      <td>40.779999</td>\n",
       "      <td>12.310000</td>\n",
       "      <td>125.160004</td>\n",
       "      <td>367.950012</td>\n",
       "      <td>33.250000</td>\n",
       "    </tr>\n",
       "    <tr>\n",
       "      <th>2022-09-26</th>\n",
       "      <td>39.740002</td>\n",
       "      <td>12.015000</td>\n",
       "      <td>123.471497</td>\n",
       "      <td>365.489990</td>\n",
       "      <td>32.965000</td>\n",
       "    </tr>\n",
       "  </tbody>\n",
       "</table>\n",
       "<p>756 rows × 5 columns</p>\n",
       "</div>"
      ],
      "text/plain": [
       "                  ALK          F        NVDA         SPY          U\n",
       "Date                                                               \n",
       "2019-09-26  63.886593   8.609035   44.160744  283.035339        NaN\n",
       "2019-09-27  63.500717   8.552521   42.771225  281.510498        NaN\n",
       "2019-09-30  64.222992   8.627874   43.346455  282.816101        NaN\n",
       "2019-10-01  64.262566   8.382977   43.329025  279.452118        NaN\n",
       "2019-10-02  62.056171   8.109823   43.089966  274.515717        NaN\n",
       "...               ...        ...         ...         ...        ...\n",
       "2022-09-20  45.330002  13.090000  131.759995  384.089996  35.200001\n",
       "2022-09-21  43.490002  13.050000  132.610001  377.390015  34.900002\n",
       "2022-09-22  41.880001  12.770000  125.610001  374.220001  33.320000\n",
       "2022-09-23  40.779999  12.310000  125.160004  367.950012  33.250000\n",
       "2022-09-26  39.740002  12.015000  123.471497  365.489990  32.965000\n",
       "\n",
       "[756 rows x 5 columns]"
      ]
     },
     "metadata": {},
     "output_type": "display_data"
    },
    {
     "data": {
      "text/plain": [
       "'Shandard deviation for chosen stocks'"
      ]
     },
     "metadata": {},
     "output_type": "display_data"
    },
    {
     "data": {
      "text/plain": [
       "SPY     0.011483\n",
       "ALK     0.026799\n",
       "F       0.028337\n",
       "NVDA    0.032790\n",
       "U       0.051998\n",
       "dtype: float64"
      ]
     },
     "metadata": {},
     "output_type": "display_data"
    },
    {
     "data": {
      "text/plain": [
       "'Annual average returns for chosen stocks'"
      ]
     },
     "metadata": {},
     "output_type": "display_data"
    },
    {
     "data": {
      "text/plain": [
       "ALK     0.073378\n",
       "F       0.366094\n",
       "NVDA    0.142421\n",
       "SPY     0.080735\n",
       "U      -0.010385\n",
       "dtype: float64"
      ]
     },
     "metadata": {},
     "output_type": "display_data"
    },
    {
     "data": {
      "text/plain": [
       "'Your Sharpe ratio for chosen stocks'"
      ]
     },
     "metadata": {},
     "output_type": "display_data"
    },
    {
     "data": {
      "text/plain": [
       "ALK      2.738050\n",
       "F       12.919515\n",
       "NVDA     4.343423\n",
       "SPY      7.030598\n",
       "U       -0.199720\n",
       "dtype: float64"
      ]
     },
     "metadata": {},
     "output_type": "display_data"
    },
    {
     "data": {},
     "metadata": {},
     "output_type": "display_data"
    },
    {
     "data": {
      "application/vnd.holoviews_exec.v0+json": "",
      "text/html": [
       "<div id='1849'>\n",
       "\n",
       "\n",
       "\n",
       "\n",
       "\n",
       "  <div class=\"bk-root\" id=\"de2e3311-2ee8-4cf9-8724-d1c8c2bc197f\" data-root-id=\"1849\"></div>\n",
       "</div>\n",
       "<script type=\"application/javascript\">(function(root) {\n",
       "  function embed_document(root) {\n",
       "    var docs_json = {\"3e16f069-96a2-4af3-ab31-1c11f34939cd\":{\"defs\":[{\"extends\":null,\"module\":null,\"name\":\"ReactiveHTML1\",\"overrides\":[],\"properties\":[]},{\"extends\":null,\"module\":null,\"name\":\"FlexBox1\",\"overrides\":[],\"properties\":[{\"default\":\"flex-start\",\"kind\":null,\"name\":\"align_content\"},{\"default\":\"flex-start\",\"kind\":null,\"name\":\"align_items\"},{\"default\":\"row\",\"kind\":null,\"name\":\"flex_direction\"},{\"default\":\"wrap\",\"kind\":null,\"name\":\"flex_wrap\"},{\"default\":\"flex-start\",\"kind\":null,\"name\":\"justify_content\"}]},{\"extends\":null,\"module\":null,\"name\":\"GridStack1\",\"overrides\":[],\"properties\":[{\"default\":\"warn\",\"kind\":null,\"name\":\"mode\"},{\"default\":null,\"kind\":null,\"name\":\"ncols\"},{\"default\":null,\"kind\":null,\"name\":\"nrows\"},{\"default\":true,\"kind\":null,\"name\":\"allow_resize\"},{\"default\":true,\"kind\":null,\"name\":\"allow_drag\"},{\"default\":[],\"kind\":null,\"name\":\"state\"}]},{\"extends\":null,\"module\":null,\"name\":\"click1\",\"overrides\":[],\"properties\":[{\"default\":\"\",\"kind\":null,\"name\":\"terminal_output\"},{\"default\":\"\",\"kind\":null,\"name\":\"debug_name\"},{\"default\":0,\"kind\":null,\"name\":\"clears\"}]},{\"extends\":null,\"module\":null,\"name\":\"TemplateActions1\",\"overrides\":[],\"properties\":[{\"default\":0,\"kind\":null,\"name\":\"open_modal\"},{\"default\":0,\"kind\":null,\"name\":\"close_modal\"}]},{\"extends\":null,\"module\":null,\"name\":\"MaterialTemplateActions1\",\"overrides\":[],\"properties\":[{\"default\":0,\"kind\":null,\"name\":\"open_modal\"},{\"default\":0,\"kind\":null,\"name\":\"close_modal\"}]}],\"roots\":{\"references\":[{\"attributes\":{\"axis_label\":\"\",\"coordinates\":null,\"formatter\":{\"id\":\"1893\"},\"group\":null,\"major_label_policy\":{\"id\":\"1894\"},\"ticker\":{\"id\":\"1864\"}},\"id\":\"1863\",\"type\":\"CategoricalAxis\"},{\"attributes\":{\"coordinates\":null,\"data_source\":{\"id\":\"1883\"},\"glyph\":{\"id\":\"1886\"},\"group\":null,\"hover_glyph\":null,\"muted_glyph\":{\"id\":\"1888\"},\"nonselection_glyph\":{\"id\":\"1887\"},\"selection_glyph\":{\"id\":\"1891\"},\"view\":{\"id\":\"1890\"}},\"id\":\"1889\",\"type\":\"GlyphRenderer\"},{\"attributes\":{},\"id\":\"1859\",\"type\":\"CategoricalScale\"},{\"attributes\":{\"bottom\":{\"value\":0},\"fill_alpha\":{\"value\":1.0},\"fill_color\":{\"value\":\"#30a2da\"},\"hatch_alpha\":{\"value\":1.0},\"hatch_color\":{\"value\":\"#30a2da\"},\"hatch_scale\":{\"value\":12.0},\"hatch_weight\":{\"value\":1.0},\"line_alpha\":{\"value\":1.0},\"line_cap\":{\"value\":\"butt\"},\"line_color\":{\"value\":\"black\"},\"line_dash\":{\"value\":[]},\"line_dash_offset\":{\"value\":0},\"line_join\":{\"value\":\"bevel\"},\"line_width\":{\"value\":1},\"top\":{\"field\":\"A_0\"},\"width\":{\"value\":0.8},\"x\":{\"field\":\"index\"}},\"id\":\"1891\",\"type\":\"VBar\"},{\"attributes\":{\"margin\":[5,5,5,5],\"name\":\"HSpacer03114\",\"sizing_mode\":\"stretch_width\"},\"id\":\"1918\",\"type\":\"Spacer\"},{\"attributes\":{\"fill_alpha\":{\"value\":0.2},\"fill_color\":{\"value\":\"#30a2da\"},\"hatch_alpha\":{\"value\":0.2},\"hatch_color\":{\"value\":\"#30a2da\"},\"line_alpha\":{\"value\":0.2},\"top\":{\"field\":\"A_0\"},\"width\":{\"value\":0.8},\"x\":{\"field\":\"index\"}},\"id\":\"1888\",\"type\":\"VBar\"},{\"attributes\":{\"source\":{\"id\":\"1883\"}},\"id\":\"1890\",\"type\":\"CDSView\"},{\"attributes\":{\"margin\":[5,5,5,5],\"name\":\"HSpacer03113\",\"sizing_mode\":\"stretch_width\"},\"id\":\"1850\",\"type\":\"Spacer\"},{\"attributes\":{\"tools\":[{\"id\":\"1853\"},{\"id\":\"1870\"},{\"id\":\"1871\"},{\"id\":\"1872\"},{\"id\":\"1873\"},{\"id\":\"1874\"}]},\"id\":\"1876\",\"type\":\"Toolbar\"},{\"attributes\":{},\"id\":\"1884\",\"type\":\"Selection\"},{\"attributes\":{},\"id\":\"1897\",\"type\":\"AllLabels\"},{\"attributes\":{\"callback\":null,\"renderers\":[{\"id\":\"1889\"}],\"tags\":[\"hv_created\"],\"tooltips\":[[\"index\",\"@{index}\"],[\"0\",\"@{A_0}\"]]},\"id\":\"1853\",\"type\":\"HoverTool\"},{\"attributes\":{},\"id\":\"1893\",\"type\":\"CategoricalTickFormatter\"},{\"attributes\":{\"bottom_units\":\"screen\",\"coordinates\":null,\"fill_alpha\":0.5,\"fill_color\":\"lightgrey\",\"group\":null,\"left_units\":\"screen\",\"level\":\"overlay\",\"line_alpha\":1.0,\"line_color\":\"black\",\"line_dash\":[4,4],\"line_width\":2,\"right_units\":\"screen\",\"syncable\":false,\"top_units\":\"screen\"},\"id\":\"1875\",\"type\":\"BoxAnnotation\"},{\"attributes\":{\"axis\":{\"id\":\"1866\"},\"coordinates\":null,\"dimension\":1,\"grid_line_color\":null,\"group\":null,\"ticker\":null},\"id\":\"1869\",\"type\":\"Grid\"},{\"attributes\":{},\"id\":\"1871\",\"type\":\"PanTool\"},{\"attributes\":{},\"id\":\"1905\",\"type\":\"UnionRenderers\"},{\"attributes\":{\"coordinates\":null,\"group\":null,\"text\":\"Sharpe Ratio Of Tickers\",\"text_color\":\"black\",\"text_font_size\":\"12pt\"},\"id\":\"1855\",\"type\":\"Title\"},{\"attributes\":{},\"id\":\"1872\",\"type\":\"WheelZoomTool\"},{\"attributes\":{\"axis_label\":\"\",\"coordinates\":null,\"formatter\":{\"id\":\"1896\"},\"group\":null,\"major_label_policy\":{\"id\":\"1897\"},\"ticker\":{\"id\":\"1867\"}},\"id\":\"1866\",\"type\":\"LinearAxis\"},{\"attributes\":{},\"id\":\"1870\",\"type\":\"SaveTool\"},{\"attributes\":{},\"id\":\"1896\",\"type\":\"BasicTickFormatter\"},{\"attributes\":{\"end\":14.231438864184032,\"reset_end\":14.231438864184032,\"reset_start\":-1.5116431164675912,\"start\":-1.5116431164675912,\"tags\":[[[\"0\",\"0\",null]]]},\"id\":\"1852\",\"type\":\"Range1d\"},{\"attributes\":{\"children\":[{\"id\":\"1850\"},{\"id\":\"1854\"},{\"id\":\"1918\"}],\"margin\":[0,0,0,0],\"name\":\"Row03109\",\"tags\":[\"embedded\"]},\"id\":\"1849\",\"type\":\"Row\"},{\"attributes\":{\"below\":[{\"id\":\"1863\"}],\"center\":[{\"id\":\"1865\"},{\"id\":\"1869\"}],\"height\":500,\"left\":[{\"id\":\"1866\"}],\"margin\":[5,5,5,5],\"min_border_bottom\":10,\"min_border_left\":10,\"min_border_right\":10,\"min_border_top\":10,\"renderers\":[{\"id\":\"1889\"}],\"sizing_mode\":\"fixed\",\"title\":{\"id\":\"1855\"},\"toolbar\":{\"id\":\"1876\"},\"width\":400,\"x_range\":{\"id\":\"1851\"},\"x_scale\":{\"id\":\"1859\"},\"y_range\":{\"id\":\"1852\"},\"y_scale\":{\"id\":\"1861\"}},\"id\":\"1854\",\"subtype\":\"Figure\",\"type\":\"Plot\"},{\"attributes\":{\"overlay\":{\"id\":\"1875\"}},\"id\":\"1873\",\"type\":\"BoxZoomTool\"},{\"attributes\":{},\"id\":\"1861\",\"type\":\"LinearScale\"},{\"attributes\":{\"fill_color\":{\"value\":\"#30a2da\"},\"hatch_color\":{\"value\":\"#30a2da\"},\"top\":{\"field\":\"A_0\"},\"width\":{\"value\":0.8},\"x\":{\"field\":\"index\"}},\"id\":\"1886\",\"type\":\"VBar\"},{\"attributes\":{},\"id\":\"1874\",\"type\":\"ResetTool\"},{\"attributes\":{\"factors\":[\"ALK\",\"F\",\"NVDA\",\"SPY\",\"U\"],\"tags\":[[[\"index\",\"index\",null]]]},\"id\":\"1851\",\"type\":\"FactorRange\"},{\"attributes\":{},\"id\":\"1867\",\"type\":\"BasicTicker\"},{\"attributes\":{\"fill_alpha\":{\"value\":0.1},\"fill_color\":{\"value\":\"#30a2da\"},\"hatch_alpha\":{\"value\":0.1},\"hatch_color\":{\"value\":\"#30a2da\"},\"line_alpha\":{\"value\":0.1},\"top\":{\"field\":\"A_0\"},\"width\":{\"value\":0.8},\"x\":{\"field\":\"index\"}},\"id\":\"1887\",\"type\":\"VBar\"},{\"attributes\":{},\"id\":\"1864\",\"type\":\"CategoricalTicker\"},{\"attributes\":{},\"id\":\"1894\",\"type\":\"AllLabels\"},{\"attributes\":{\"data\":{\"A_0\":{\"__ndarray__\":\"rcipxIbnBUCuh9C3ytYpQEXD3WWqXxFAEbkeClUfHEBY8gKWaZDJvw==\",\"dtype\":\"float64\",\"order\":\"little\",\"shape\":[5]},\"index\":[\"ALK\",\"F\",\"NVDA\",\"SPY\",\"U\"]},\"selected\":{\"id\":\"1884\"},\"selection_policy\":{\"id\":\"1905\"}},\"id\":\"1883\",\"type\":\"ColumnDataSource\"},{\"attributes\":{\"axis\":{\"id\":\"1863\"},\"coordinates\":null,\"grid_line_color\":null,\"group\":null,\"ticker\":null},\"id\":\"1865\",\"type\":\"Grid\"}],\"root_ids\":[\"1849\"]},\"title\":\"Bokeh Application\",\"version\":\"2.4.2\"}};\n",
       "    var render_items = [{\"docid\":\"3e16f069-96a2-4af3-ab31-1c11f34939cd\",\"root_ids\":[\"1849\"],\"roots\":{\"1849\":\"de2e3311-2ee8-4cf9-8724-d1c8c2bc197f\"}}];\n",
       "    root.Bokeh.embed.embed_items_notebook(docs_json, render_items);\n",
       "  }\n",
       "  if (root.Bokeh !== undefined && root.Bokeh.Panel !== undefined) {\n",
       "    embed_document(root);\n",
       "  } else {\n",
       "    var attempts = 0;\n",
       "    var timer = setInterval(function(root) {\n",
       "      if (root.Bokeh !== undefined && root.Bokeh.Panel !== undefined) {\n",
       "        clearInterval(timer);\n",
       "        embed_document(root);\n",
       "      } else if (document.readyState == \"complete\") {\n",
       "        attempts++;\n",
       "        if (attempts > 200) {\n",
       "          clearInterval(timer);\n",
       "          console.log(\"Bokeh: ERROR: Unable to run BokehJS code because BokehJS library is missing\");\n",
       "        }\n",
       "      }\n",
       "    }, 25, root)\n",
       "  }\n",
       "})(window);</script>"
      ],
      "text/plain": [
       ":Bars   [index]   (0)"
      ]
     },
     "metadata": {
      "application/vnd.holoviews_exec.v0+json": {
       "id": "1849"
      }
     },
     "output_type": "display_data"
    },
    {
     "name": "stdout",
     "output_type": "stream",
     "text": [
      "Stored 'sharpe_ratios' (Series)\n"
     ]
    }
   ],
   "source": [
    "import hvplot.pandas\n",
    "import yfinance as yf\n",
    "from yahoo_fin.stock_info import *\n",
    "%store -r tickers_list\n",
    "import numpy as np\n",
    "\n",
    "data = yf.download(tickers_list, period='36mo')['Adj Close']\n",
    "\n",
    "#Finding daily returns of all the stocks\n",
    "daily_returns = data.pct_change().dropna()\n",
    "\n",
    "#Calculating standard deviation\n",
    "standard_deviation = daily_returns.std().sort_values()\n",
    "display(f\"Shandard deviation for chosen stocks\",standard_deviation)\n",
    "\n",
    "\n",
    "# Calculate the annual average return data for the for fund portfolios and the S&P 500\n",
    "# Use 252 as the number of trading days in the year\n",
    "# Review the annual average returns sorted from lowest to highest\n",
    "trading_days = 252\n",
    "annual_average_returns = daily_returns.mean() * trading_days\n",
    "annual_average_returns.sort_values()\n",
    "\n",
    "# Display sorted annual average returns\n",
    "display(f\"Annual average returns for chosen stocks\",annual_average_returns)\n",
    "\n",
    "#Finding Sharpe ratios for all 5 stocks and S&P\n",
    "sharpe_ratios = annual_average_returns / standard_deviation\n",
    "sharpe_ratios.sort_values()\n",
    "display(f\"Your Sharpe ratio for chosen stocks\",sharpe_ratios)\n",
    "\n",
    "#Plotting Sharpe ratios\n",
    "display(sharpe_ratios.hvplot.bar(\n",
    "    height=500,\n",
    "    width= 400,\n",
    "    title=\"Sharpe Ratio Of Tickers\"))\n",
    "%store sharpe_ratios"
   ]
  },
  {
   "cell_type": "code",
   "execution_count": null,
   "id": "50d04897-57ce-4474-947e-d9cf16e5b143",
   "metadata": {},
   "outputs": [],
   "source": []
  }
 ],
 "metadata": {
  "kernelspec": {
   "display_name": "Python 3 (ipykernel)",
   "language": "python",
   "name": "python3"
  },
  "language_info": {
   "codemirror_mode": {
    "name": "ipython",
    "version": 3
   },
   "file_extension": ".py",
   "mimetype": "text/x-python",
   "name": "python",
   "nbconvert_exporter": "python",
   "pygments_lexer": "ipython3",
   "version": "3.9.12"
  }
 },
 "nbformat": 4,
 "nbformat_minor": 5
}
