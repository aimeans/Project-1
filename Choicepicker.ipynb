{
 "cells": [
  {
   "cell_type": "code",
   "execution_count": null,
   "id": "650e009e-14d8-4e56-b69e-b2bca279faec",
   "metadata": {},
   "outputs": [],
   "source": [
    "import yfinance as yf\n",
    "import pandas as pd\n",
    "from pathlib import Path\n",
    "from yahoo_fin.stock_info import *\n",
    "\n",
    "\n",
    "\n",
    "#Ask User for 5 stocks of their choice to run the program on\n",
    "#Ask User for stocks of their choice to run the program on\n",
    "display(\"Enter stocks you would like to run data on press enter again when done\")\n",
    "total_input = []\n",
    "print(\"Enter Stocks Tickers: \")\n",
    "\n",
    "while True:\n",
    "      stocks = input()\n",
    "      if stocks:\n",
    "         total_input.append(stocks)\n",
    "      else:\n",
    "         break\n",
    "\n",
    "print('Total input received :')\n",
    "\n",
    "print(total_input)\n",
    "\n",
    "\n",
    "tickers_list = total_input+['SPY']\n",
    "#tickers_list = [x.upper() for x in tickers_list]\n",
    "\n",
    "\n",
    "%store tickers_list"
   ]
  }
 ],
 "metadata": {
  "kernelspec": {
   "display_name": "Python 3 (ipykernel)",
   "language": "python",
   "name": "python3"
  },
  "language_info": {
   "codemirror_mode": {
    "name": "ipython",
    "version": 3
   },
   "file_extension": ".py",
   "mimetype": "text/x-python",
   "name": "python",
   "nbconvert_exporter": "python",
   "pygments_lexer": "ipython3",
   "version": "3.9.12"
  }
 },
 "nbformat": 4,
 "nbformat_minor": 5
}
