{
 "cells": [
  {
   "cell_type": "code",
   "execution_count": null,
   "id": "b27b0435-6113-41a6-82e4-d7853c7fbea2",
   "metadata": {
    "tags": []
   },
   "outputs": [
    {
     "data": {
      "text/plain": [
       "'Enter stocks you would like to run data on and press enter again when done'"
      ]
     },
     "metadata": {},
     "output_type": "display_data"
    },
    {
     "name": "stdout",
     "output_type": "stream",
     "text": [
      "Enter Stocks Tickers: \n"
     ]
    }
   ],
   "source": [
    "import yfinance as yf\n",
    "import pandas as pd\n",
    "from pathlib import Path\n",
    "from yahoo_fin.stock_info import *\n",
    "\n",
    "\n",
    "\n",
    "#Ask User for 5 stocks of their choice to run the program on\n",
    "#Ask User for stocks of their choice to run the program on\n",
    "display(\"Enter stocks you would like to run data on and press enter again when done\")\n",
    "total_input = []\n",
    "print(\"Enter Stocks Tickers: \")\n",
    "\n",
    "while True:\n",
    "      stocks = input()\n",
    "      if stocks:\n",
    "         total_input.append(stocks)\n",
    "      else:\n",
    "         break\n",
    "\n",
    "print('Total input received :')\n",
    "\n",
    "print(total_input)\n",
    "\n",
    "\n",
    "tickers_list = total_input+['SPY']\n",
    "#tickers_list = [x.upper() for x in tickers_list]\n",
    "\n",
    "\n",
    "%store tickers_list"
   ]
  },
  {
   "cell_type": "code",
   "execution_count": 6,
   "id": "a14b96d0-9069-4dba-80e8-48dd7bf8d96c",
   "metadata": {},
   "outputs": [
    {
     "data": {
      "text/plain": [
       "['AAPL', 'SPY']"
      ]
     },
     "execution_count": 6,
     "metadata": {},
     "output_type": "execute_result"
    }
   ],
   "source": [
    "tickers_list"
   ]
  },
  {
   "cell_type": "code",
   "execution_count": 18,
   "id": "9566684a-7522-45de-91d4-eb24ccbd5f8f",
   "metadata": {},
   "outputs": [],
   "source": []
  },
  {
   "cell_type": "code",
   "execution_count": 19,
   "id": "e914959b-c025-4ce3-afca-94bacb7ce032",
   "metadata": {},
   "outputs": [
    {
     "data": {
      "text/plain": [
       "['AAPL', 'DOCN', 'MSFT', 'HD', 'TSLA']"
      ]
     },
     "execution_count": 19,
     "metadata": {},
     "output_type": "execute_result"
    }
   ],
   "source": []
  },
  {
   "cell_type": "code",
   "execution_count": null,
   "id": "b027fa4a-f1e5-40e1-a31e-f2571cc799d0",
   "metadata": {},
   "outputs": [],
   "source": []
  }
 ],
 "metadata": {
  "kernelspec": {
   "display_name": "Python 3 (ipykernel)",
   "language": "python",
   "name": "python3"
  },
  "language_info": {
   "codemirror_mode": {
    "name": "ipython",
    "version": 3
   },
   "file_extension": ".py",
   "mimetype": "text/x-python",
   "name": "python",
   "nbconvert_exporter": "python",
   "pygments_lexer": "ipython3",
   "version": "3.9.12"
  }
 },
 "nbformat": 4,
 "nbformat_minor": 5
}
